{
 "cells": [
  {
   "cell_type": "code",
   "execution_count": null,
   "id": "554afae0",
   "metadata": {},
   "outputs": [],
   "source": [
    "import os\n",
    "import argparse\n",
    "\n",
    "import pandas as pd\n",
    "from tqdm import tqdm\n",
    "from dotenv import load_dotenv\n",
    "from openai import OpenAI\n",
    "from prompts import baseline_prompt\n",
    "from promptTemplate import process\n",
    "import re\n",
    "\n",
    "def extract_answer(text):\n",
    "    # [Answer]: 뒤에 오는 줄의 맨 앞~줄 끝까지 추출\n",
    "    match = re.search(r\"\\[Answer\\]:\\s*(.*)\", text)\n",
    "    if match:\n",
    "        return match.group(1).strip()\n",
    "    return \"\"\n",
    "\n",
    "\n",
    "def main():\n",
    "\n",
    "    args = {\"input\":\"data/train_dataset.csv\",\"model\":\"solar-pro2\",\"output\":\"eval_submission.csv\"}\n",
    "    \n",
    "\n",
    "    # Load environment variables\n",
    "    load_dotenv()\n",
    "    \n",
    "    # Load data\n",
    "    df = pd.read_csv(args['input'])\n",
    "    \n",
    "    if \"err_sentence\" not in df.columns:\n",
    "        raise ValueError(\"Input CSV must contain 'err_sentence' column\")\n",
    "\n",
    "    # Setup Upstage client\n",
    "    api_key = os.getenv(\"UPSTAGE_API_KEY\")\n",
    "    if not api_key:\n",
    "        raise ValueError(\"UPSTAGE_API_KEY not found in environment variables\")\n",
    "    \n",
    "    print(f\"Model: {args['model']}\")\n",
    "    print(f\"Output: {args['output']}\")\n",
    "\n",
    "    err_sentences = []\n",
    "    cor_sentences = []\n",
    "    \n",
    "    # Process each sentence\n",
    "    for row in tqdm(df.itertuples(), total=len(df), desc=\"Generating\"):\n",
    "\n",
    "        text = row.err_sentence\n",
    "        \n",
    "        err_sentences.append(text)\n",
    "        \n",
    "        try:\n",
    "            resp = process(text)\n",
    "            corrected = extract_answer(resp)\n",
    "            cor_sentences.append(corrected)\n",
    "            \n",
    "        except Exception as e:\n",
    "            print(f\"Error processing: {text[:50]}... - {e}\")\n",
    "            cor_sentences.append(text)  # fallback to original\n",
    "\n",
    "    # Save results with required column names\n",
    "    out_df = pd.DataFrame({\"err_sentence\": err_sentences, \"cor_sentence\": cor_sentences})\n",
    "    out_df.to_csv(args['output'], index=False)\n",
    "    print(f\"Wrote {len(out_df)} rows to {args['output']}\")\n"
   ]
  },
  {
   "cell_type": "code",
   "execution_count": 5,
   "id": "fb1250fc",
   "metadata": {},
   "outputs": [
    {
     "name": "stdout",
     "output_type": "stream",
     "text": [
      "Model: solar-pro2\n",
      "Output: eval_submission.csv\n"
     ]
    },
    {
     "name": "stderr",
     "output_type": "stream",
     "text": [
      "Generating: 100%|██████████| 254/254 [10:49<00:00,  2.56s/it]"
     ]
    },
    {
     "name": "stdout",
     "output_type": "stream",
     "text": [
      "Wrote 254 rows to eval_submission.csv\n"
     ]
    },
    {
     "name": "stderr",
     "output_type": "stream",
     "text": [
      "\n"
     ]
    }
   ],
   "source": [
    "\n",
    "if __name__ == \"__main__\":\n",
    "\n",
    "   \n",
    "    main()\n"
   ]
  }
 ],
 "metadata": {
  "kernelspec": {
   "display_name": "prompthon-baseline (3.12.11)",
   "language": "python",
   "name": "python3"
  },
  "language_info": {
   "codemirror_mode": {
    "name": "ipython",
    "version": 3
   },
   "file_extension": ".py",
   "mimetype": "text/x-python",
   "name": "python",
   "nbconvert_exporter": "python",
   "pygments_lexer": "ipython3",
   "version": "3.12.11"
  }
 },
 "nbformat": 4,
 "nbformat_minor": 5
}
