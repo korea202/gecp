{
 "cells": [
  {
   "cell_type": "code",
   "execution_count": null,
   "id": "772250ef",
   "metadata": {},
   "outputs": [],
   "source": [
    "# 1. 데이터 파일 읽기\n",
    "import pandas as pd\n",
    "\n",
    "# 로컬 JSON 파일 읽기\n",
    "df = pd.read_csv(\"./data/train_dataset.csv\", encoding='utf-8')\n",
    "df.head()"
   ]
  },
  {
   "cell_type": "code",
   "execution_count": null,
   "id": "7a119366",
   "metadata": {},
   "outputs": [],
   "source": [
    "# 2. 정보 확인\n",
    "df.info()"
   ]
  },
  {
   "cell_type": "code",
   "execution_count": null,
   "id": "8a10e62d",
   "metadata": {},
   "outputs": [],
   "source": [
    "# 6. 메인\n",
    "import re\n",
    "from promptTemplate import process\n",
    "\n",
    "def extract_answer(text):\n",
    "    # [Answer]: 뒤에 오는 줄의 맨 앞~줄 끝까지 추출\n",
    "    match = re.search(r\"\\[Answer\\]:\\s*(.*)\", text)\n",
    "    if match:\n",
    "        return match.group(1).strip()\n",
    "    return \"\"\n",
    "\n",
    "\n",
    "def main():\n",
    "\n",
    "    errorType = []\n",
    "    for idx, row in df.iterrows():\n",
    "\n",
    "        if idx == 5: break\n",
    "        \n",
    "        result = process(row['err_sentence'])\n",
    "\n",
    "\n",
    "        print(row['err_sentence'])\n",
    "        print(\"-\"*25)\n",
    "        #print(extract_answer(result))\n",
    "        print(result)\n",
    "        print(\"*\"*25)\n",
    "        errorType.append(result)\n",
    "\n",
    "    #df['new'] = errorType\n",
    "    #df.to_csv('./new.csv', index=False)    \n",
    "\n",
    "\n",
    "main()\n",
    "\n"
   ]
  }
 ],
 "metadata": {
  "kernelspec": {
   "display_name": "prompthon-baseline (3.12.11)",
   "language": "python",
   "name": "python3"
  },
  "language_info": {
   "codemirror_mode": {
    "name": "ipython",
    "version": 3
   },
   "file_extension": ".py",
   "mimetype": "text/x-python",
   "name": "python",
   "nbconvert_exporter": "python",
   "pygments_lexer": "ipython3",
   "version": "3.12.11"
  }
 },
 "nbformat": 4,
 "nbformat_minor": 5
}
